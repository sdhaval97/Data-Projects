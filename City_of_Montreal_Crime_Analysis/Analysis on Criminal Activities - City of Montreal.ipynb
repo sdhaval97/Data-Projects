{
 "cells": [
  {
   "cell_type": "markdown",
   "id": "23459423",
   "metadata": {},
   "source": [
    "# Analysis on Criminal Activities in the City of Montreal"
   ]
  },
  {
   "cell_type": "markdown",
   "id": "a61cfc92",
   "metadata": {},
   "source": [
    "### Importing Libraries and Loading Datasets"
   ]
  },
  {
   "cell_type": "code",
   "execution_count": 31,
   "id": "5a1c21c4",
   "metadata": {},
   "outputs": [],
   "source": [
    "# importing the nexessary libraries\n",
    "\n",
    "import pandas as pd\n",
    "\n",
    "# importing geopandas to read geojson file\n",
    "import geopandas as gpd\n",
    "import matplotlib.pyplot as plt\n",
    "\n",
    "import folium\n",
    "from folium.plugins import MarkerCluster"
   ]
  },
  {
   "cell_type": "code",
   "execution_count": 3,
   "id": "2c7a8d0c",
   "metadata": {},
   "outputs": [],
   "source": [
    "# Loading the datasets\n",
    "crime_data = pd.read_csv(\"actes-criminels.csv\")\n",
    "pdq_geojson = gpd.read_file(\"limitespdq.geojson\")"
   ]
  },
  {
   "cell_type": "code",
   "execution_count": 4,
   "id": "69294e5d",
   "metadata": {},
   "outputs": [
    {
     "name": "stdout",
     "output_type": "stream",
     "text": [
      "<class 'pandas.core.frame.DataFrame'>\n",
      "RangeIndex: 244117 entries, 0 to 244116\n",
      "Data columns (total 8 columns):\n",
      " #   Column     Non-Null Count   Dtype  \n",
      "---  ------     --------------   -----  \n",
      " 0   CATEGORIE  244117 non-null  object \n",
      " 1   DATE       244117 non-null  object \n",
      " 2   QUART      244117 non-null  object \n",
      " 3   PDQ        244112 non-null  float64\n",
      " 4   X          202724 non-null  float64\n",
      " 5   Y          202724 non-null  float64\n",
      " 6   LONGITUDE  202724 non-null  float64\n",
      " 7   LATITUDE   202724 non-null  float64\n",
      "dtypes: float64(5), object(3)\n",
      "memory usage: 14.9+ MB\n",
      "None\n",
      "<class 'geopandas.geodataframe.GeoDataFrame'>\n",
      "RangeIndex: 29 entries, 0 to 28\n",
      "Data columns (total 3 columns):\n",
      " #   Column    Non-Null Count  Dtype   \n",
      "---  ------    --------------  -----   \n",
      " 0   PDQ       29 non-null     int64   \n",
      " 1   NOM_PDQ   29 non-null     object  \n",
      " 2   geometry  29 non-null     geometry\n",
      "dtypes: geometry(1), int64(1), object(1)\n",
      "memory usage: 828.0+ bytes\n",
      "None\n"
     ]
    }
   ],
   "source": [
    "# structure of datasets\n",
    "print(crime_data.info())\n",
    "print(pdq_geojson.info())"
   ]
  },
  {
   "cell_type": "code",
   "execution_count": 7,
   "id": "b0fab7f0",
   "metadata": {},
   "outputs": [
    {
     "name": "stdout",
     "output_type": "stream",
     "text": [
      "                  CATEGORIE        DATE QUART   PDQ              X  \\\n",
      "0  Vol de véhicule à moteur  2018-09-13  jour  30.0  294904.159001   \n",
      "1  Vol de véhicule à moteur  2018-04-30  jour  30.0  294904.159001   \n",
      "2  Vol de véhicule à moteur  2018-09-01  nuit   7.0  290274.565000   \n",
      "3                    Méfait  2017-07-21  jour  21.0            NaN   \n",
      "4                    Méfait  2017-07-29  jour  12.0            NaN   \n",
      "\n",
      "              Y  LONGITUDE   LATITUDE  \n",
      "0  5.047549e+06 -73.626778  45.567780  \n",
      "1  5.047549e+06 -73.626778  45.567780  \n",
      "2  5.042150e+06 -73.685928  45.519122  \n",
      "3           NaN        NaN        NaN  \n",
      "4           NaN        NaN        NaN  \n",
      "   PDQ NOM_PDQ                                           geometry\n",
      "0    1   PDQ-1  MULTIPOLYGON (((-73.84050 45.45690, -73.84220 ...\n",
      "1    3   PDQ-3  MULTIPOLYGON (((-73.93970 45.47010, -73.93980 ...\n",
      "2    4   PDQ-4  MULTIPOLYGON (((-73.81590 45.50260, -73.81580 ...\n",
      "3    5   PDQ-5  MULTIPOLYGON (((-73.72280 45.43200, -73.72270 ...\n",
      "4    7   PDQ-7  MULTIPOLYGON (((-73.67240 45.53250, -73.67150 ...\n"
     ]
    }
   ],
   "source": [
    "# Previewing the data\n",
    "print(crime_data.head())\n",
    "print(pdq_geojson.head())"
   ]
  },
  {
   "cell_type": "markdown",
   "id": "553b03b6",
   "metadata": {},
   "source": [
    "## Analysis"
   ]
  },
  {
   "cell_type": "markdown",
   "id": "83432a55",
   "metadata": {},
   "source": [
    "### Top 3 prevalent crimes (categories) committed in Montreal"
   ]
  },
  {
   "cell_type": "code",
   "execution_count": 6,
   "id": "e6980f55",
   "metadata": {},
   "outputs": [
    {
     "name": "stdout",
     "output_type": "stream",
     "text": [
      "Top 3 prevalent crimes: \n",
      "CATEGORIE\n",
      "Vol dans / sur véhicule à moteur    72291\n",
      "Introduction                        61107\n",
      "Méfait                              53720\n",
      "Name: count, dtype: int64\n"
     ]
    }
   ],
   "source": [
    "top_crimes = crime_data['CATEGORIE'].value_counts().head(3)\n",
    "print(\"Top 3 prevalent crimes: \")\n",
    "print(top_crimes)"
   ]
  },
  {
   "cell_type": "markdown",
   "id": "ab1cd12f",
   "metadata": {},
   "source": [
    "As per the analysis, the top 3 criminal activities are **Theft of Motor Vehicle** *(72,291 cases)*, **Breaking and Entering** *(61,107 cases)* and **Mischief** *(53,720 cases)*.\n",
    "\n",
    "*P.S.: The names of the criminal activities have been translated into English as per the context of City of Montreal*"
   ]
  },
  {
   "cell_type": "markdown",
   "id": "6d511e10",
   "metadata": {},
   "source": [
    "### What part of the day did most of the crimes occur?"
   ]
  },
  {
   "cell_type": "code",
   "execution_count": 9,
   "id": "4ae18cb0",
   "metadata": {},
   "outputs": [
    {
     "name": "stdout",
     "output_type": "stream",
     "text": [
      "Crime incidents by part of the day: \n",
      "QUART\n",
      "jour    124382\n",
      "soir     81612\n",
      "nuit     38123\n",
      "Name: count, dtype: int64\n"
     ]
    }
   ],
   "source": [
    "crime_time_distribution = crime_data['QUART'].value_counts()\n",
    "print('Crime incidents by part of the day: ')\n",
    "print(crime_time_distribution)"
   ]
  },
  {
   "cell_type": "markdown",
   "id": "a056a8e2",
   "metadata": {},
   "source": [
    "This shows that the majority of the crimes took place during the **day time (8:01am to 4:00pm)** *(124,382 cases)*, followed by **evening time (4:01pm to midnight)** *(81,612 cases)* and then **nighttime (0:01am to 8:00am)** *(38,123 cases)*"
   ]
  },
  {
   "cell_type": "code",
   "execution_count": 10,
   "id": "bc6e95ef",
   "metadata": {},
   "outputs": [
    {
     "data": {
      "image/png": "[encoded data removed]",
      "text/plain": [
       "<Figure size 800x600 with 1 Axes>"
      ]
     },
     "metadata": {},
     "output_type": "display_data"
    }
   ],
   "source": [
    "# Plot crime incidents by part of the day\n",
    "plt.figure(figsize=(8, 6))\n",
    "crime_time_distribution.plot(kind='bar', color='skyblue')\n",
    "plt.title('Crime Incidents by Time of Day')\n",
    "plt.xlabel('Time of Day')\n",
    "plt.ylabel('Number of Incidents')\n",
    "plt.xticks(rotation=0)\n",
    "plt.show()"
   ]
  },
  {
   "cell_type": "markdown",
   "id": "50e08cf3",
   "metadata": {},
   "source": [
    "### Top 5 Police precincts (PDQ) with most police complaints"
   ]
  },
  {
   "cell_type": "code",
   "execution_count": 11,
   "id": "ba5eef97",
   "metadata": {},
   "outputs": [
    {
     "name": "stdout",
     "output_type": "stream",
     "text": [
      "Top 5 police precincts with the most crime complaints: \n",
      "PDQ\n",
      "38.0    17265\n",
      "21.0    14326\n",
      "20.0    13593\n",
      "48.0    11795\n",
      "39.0    11149\n",
      "Name: count, dtype: int64\n"
     ]
    }
   ],
   "source": [
    "top_pdq_complaints = crime_data['PDQ'].value_counts().head(5)\n",
    "print(\"Top 5 police precincts with the most crime complaints: \")\n",
    "print(top_pdq_complaints)"
   ]
  },
  {
   "cell_type": "markdown",
   "id": "68253e5c",
   "metadata": {},
   "source": [
    "Here, we can see the top 5 precincts represented by their numbers (IDs)."
   ]
  },
  {
   "cell_type": "markdown",
   "id": "84bdab56",
   "metadata": {},
   "source": [
    "### 3 PDQs with the least crime complaints"
   ]
  },
  {
   "cell_type": "code",
   "execution_count": 13,
   "id": "ca2d34a8",
   "metadata": {},
   "outputs": [
    {
     "name": "stdout",
     "output_type": "stream",
     "text": [
      "3 police precincts with the most crime complaints: \n",
      "PDQ\n",
      "24.0    2532\n",
      "50.0    1950\n",
      "55.0      90\n",
      "Name: count, dtype: int64\n"
     ]
    }
   ],
   "source": [
    "bottom_pdq_complaints = crime_data['PDQ'].value_counts().tail(3)\n",
    "print(\"3 police precincts with the most crime complaints: \")\n",
    "print(bottom_pdq_complaints)"
   ]
  },
  {
   "cell_type": "markdown",
   "id": "2d2229de",
   "metadata": {},
   "source": [
    "### Merging the csv and the GeoJson file"
   ]
  },
  {
   "cell_type": "code",
   "execution_count": 15,
   "id": "5b0fbe58",
   "metadata": {},
   "outputs": [],
   "source": [
    "crime_pdq_merged = pd.merge(crime_data, pdq_geojson, on='PDQ')"
   ]
  },
  {
   "cell_type": "markdown",
   "id": "d657c870",
   "metadata": {},
   "source": [
    "### Neighborhoods with highest crime incidents and the respective crime type"
   ]
  },
  {
   "cell_type": "code",
   "execution_count": 22,
   "id": "877f5d08",
   "metadata": {},
   "outputs": [
    {
     "name": "stdout",
     "output_type": "stream",
     "text": [
      "Neighborhoods with the highest crime incidents and crime types:\n",
      "NOM_PDQ  NOM_PDQ  CATEGORIE                       \n",
      "PDQ-1    PDQ-1    Introduction                         845\n",
      "PDQ-10   PDQ-10   Vol dans / sur véhicule à moteur    1488\n",
      "PDQ-12   PDQ-12   Vol dans / sur véhicule à moteur    1561\n",
      "PDQ-13   PDQ-13   Méfait                              1655\n",
      "PDQ-15   PDQ-15   Introduction                        2774\n",
      "PDQ-16   PDQ-16   Introduction                        1799\n",
      "PDQ-20   PDQ-20   Vol dans / sur véhicule à moteur    7602\n",
      "PDQ-21   PDQ-21   Vol dans / sur véhicule à moteur    6840\n",
      "PDQ-22   PDQ-22   Introduction                        2413\n",
      "PDQ-23   PDQ-23   Introduction                        3209\n",
      "PDQ-26   PDQ-26   Introduction                        2910\n",
      "PDQ-27   PDQ-27   Vol dans / sur véhicule à moteur    2424\n",
      "PDQ-3    PDQ-3    Introduction                        1361\n",
      "PDQ-30   PDQ-30   Vol dans / sur véhicule à moteur    2125\n",
      "PDQ-31   PDQ-31   Vol dans / sur véhicule à moteur    2119\n",
      "PDQ-35   PDQ-35   Introduction                        2576\n",
      "PDQ-38   PDQ-38   Introduction                        6428\n",
      "PDQ-39   PDQ-39   Vol de véhicule à moteur            2964\n",
      "PDQ-4    PDQ-4    Vol dans / sur véhicule à moteur     964\n",
      "PDQ-42   PDQ-42   Vol dans / sur véhicule à moteur    2932\n",
      "PDQ-44   PDQ-44   Introduction                        2875\n",
      "PDQ-45   PDQ-45   Vol de véhicule à moteur            1672\n",
      "PDQ-46   PDQ-46   Vol dans / sur véhicule à moteur    1953\n",
      "PDQ-48   PDQ-48   Vol dans / sur véhicule à moteur    3148\n",
      "PDQ-49   PDQ-49   Vol dans / sur véhicule à moteur    1700\n",
      "PDQ-5    PDQ-5    Vol dans / sur véhicule à moteur    2071\n",
      "PDQ-7    PDQ-7    Vol de véhicule à moteur            3454\n",
      "PDQ-8    PDQ-8    Introduction                        1456\n",
      "PDQ-9    PDQ-9    Vol dans / sur véhicule à moteur    1135\n",
      "Name: count, dtype: int64\n"
     ]
    }
   ],
   "source": [
    "neighborhood_crime = crime_pdq_merged.groupby('NOM_PDQ')['CATEGORIE'].value_counts().groupby(level=0).nlargest(1)\n",
    "print(\"Neighborhoods with the highest crime incidents and crime types:\")\n",
    "print(neighborhood_crime)"
   ]
  },
  {
   "cell_type": "markdown",
   "id": "48212ce7",
   "metadata": {},
   "source": [
    "This sorts the PDQs from highest to lowest in terms of the number of criminal activities and shows the most common category of crime and its respective occurences."
   ]
  },
  {
   "cell_type": "markdown",
   "id": "a689f7e2",
   "metadata": {},
   "source": [
    "### Neighborhood with the most murder cases"
   ]
  },
  {
   "cell_type": "code",
   "execution_count": 27,
   "id": "edfbb982",
   "metadata": {},
   "outputs": [
    {
     "name": "stdout",
     "output_type": "stream",
     "text": [
      "Neighborhood with most number of murders:  PDQ-39\n"
     ]
    }
   ],
   "source": [
    "murder_neighborhood = crime_pdq_merged[crime_pdq_merged['CATEGORIE'] == 'Infractions entrainant la mort']['NOM_PDQ'].value_counts().idxmax()\n",
    "print(\"Neighborhood with most number of murders: \", murder_neighborhood)"
   ]
  },
  {
   "cell_type": "code",
   "execution_count": 35,
   "id": "84cb8a5a",
   "metadata": {},
   "outputs": [],
   "source": [
    "# Dropping rows with missing latitude or longitude values\n",
    "crime_data_clean = crime_pdq_merged.dropna(subset=['LATITUDE', 'LONGITUDE'])\n",
    "\n",
    "# Creating a folium map centered around Montreal\n",
    "m = folium.Map(location=[45.5017, -73.5673], zoom_start=11)\n",
    "\n",
    "# Creating a MarkerCluster layer to group crime markers\n",
    "marker_cluster = MarkerCluster().add_to(m)\n",
    "\n",
    "# Adding crime incidents as markers to the map\n",
    "for index, row in crime_data_clean.iterrows():\n",
    "    folium.Marker([row['LATITUDE'], row['LONGITUDE']], popup=row['CATEGORIE']).add_to(marker_cluster)\n",
    "\n",
    "# Save the map to an HTML file\n",
    "m.save(\"crime_map.html\")"
   ]
  },
  {
   "cell_type": "code",
   "execution_count": null,
   "id": "7f9d77b1",
   "metadata": {},
   "outputs": [],
   "source": []
  }
 ],
 "metadata": {
  "kernelspec": {
   "display_name": "Python 3 (ipykernel)",
   "language": "python",
   "name": "python3"
  },
  "language_info": {
   "codemirror_mode": {
    "name": "ipython",
    "version": 3
   },
   "file_extension": ".py",
   "mimetype": "text/x-python",
   "name": "python",
   "nbconvert_exporter": "python",
   "pygments_lexer": "ipython3",
   "version": "3.11.5"
  }
 },
 "nbformat": 4,
 "nbformat_minor": 5
}
